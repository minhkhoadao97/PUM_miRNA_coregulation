{
 "cells": [
  {
   "cell_type": "code",
   "execution_count": 56,
   "id": "902a9f33",
   "metadata": {},
   "outputs": [],
   "source": [
    "import pandas as pd\n",
    "import os, sys\n",
    "import requests\n",
    "import pyBigWig\n",
    "from Bio.Seq import reverse_complement\n",
    "import numpy as np\n",
    "import collections"
   ]
  },
  {
   "cell_type": "code",
   "execution_count": 95,
   "id": "7e9d804a",
   "metadata": {},
   "outputs": [],
   "source": [
    "# import prediction result \n",
    "df = pd.DataFrame()\n",
    "\n",
    "for fn in os.listdir('OUTPUT'):\n",
    "    miR = fn.split('_')[0]\n",
    "    \n",
    "    _df = pd.read_csv(f'OUTPUT/{fn}', sep = '\\t')\n",
    "    \n",
    "    _df['miR'] = miR\n",
    "    df = pd.concat([df, _df])\n",
    "    \n",
    "df = df[df['PUM_count']!=0]\n",
    "df = df.astype({'phyloP_avg': float})\n",
    "\n",
    "# convert dataframe to show miR and PUM sites for each gene\n",
    "def join_miR(miRs):\n",
    "    return ','.join(list(miRs.unique()))\n",
    "\n",
    "df = df.groupby('gene').agg({'miR': join_miR, 'PUM_count': 'first', 'phyloP_avg': 'mean'}).reset_index()\n",
    "\n",
    "# import and merge translation efficiency data with prediction\n",
    "TE = pd.read_excel(\n",
    "    'translation_analysis_mouse_dev.xls', \n",
    "    sheet_name = 3, \n",
    "    header = 1\n",
    ")\n",
    "\n",
    "df = df.merge(TE, left_on = df['gene'].str.upper(), right_on = TE['Gene'].str.upper(), how = 'inner')\n",
    "df = df.drop(columns = 'key_0')\n",
    "\n",
    "# import and merge RIP-ChIP data with prediction\n",
    "PUM = pd.read_csv('mouse_PUM_target.csv')\n",
    "df = df.merge(PUM, left_on = df['gene'].str.upper(), right_on = PUM['SYMBOL'].str.upper())\n",
    "df = df.drop(columns = 'key_0')\n",
    "              \n",
    "df = df.dropna()\n",
    "\n",
    "# filter dataframe by average phyloP score (>2) and fold change of translation efficiency (2 fold or more)\n",
    "df = df[(df['phyloP_avg']>2)\n",
    "        &((df['TE']>1)|(df['TE']<-1))\n",
    "       ]\n",
    "\n",
    "# save result\n",
    "df.to_excel('PUM_miRNA_prediction_result.xlsx')"
   ]
  },
  {
   "cell_type": "code",
   "execution_count": null,
   "id": "fd66c436",
   "metadata": {},
   "outputs": [],
   "source": []
  }
 ],
 "metadata": {
  "kernelspec": {
   "display_name": "Python 3 (ipykernel)",
   "language": "python",
   "name": "python3"
  },
  "language_info": {
   "codemirror_mode": {
    "name": "ipython",
    "version": 3
   },
   "file_extension": ".py",
   "mimetype": "text/x-python",
   "name": "python",
   "nbconvert_exporter": "python",
   "pygments_lexer": "ipython3",
   "version": "3.9.7"
  }
 },
 "nbformat": 4,
 "nbformat_minor": 5
}
